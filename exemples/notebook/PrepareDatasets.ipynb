{
 "cells": [
  {
   "cell_type": "code",
   "execution_count": 1,
   "id": "dd05b660",
   "metadata": {},
   "outputs": [
    {
     "name": "stdout",
     "output_type": "stream",
     "text": [
      "/people/gerald/Documents/repositories/Educational-French-Question-Answering\n"
     ]
    }
   ],
   "source": [
    "cd ../.."
   ]
  },
  {
   "cell_type": "code",
   "execution_count": 2,
   "id": "f083a243",
   "metadata": {
    "scrolled": true
   },
   "outputs": [
    {
     "name": "stderr",
     "output_type": "stream",
     "text": [
      "/people/gerald/lib/miniconda3/envs/annotationbob/lib/python3.8/site-packages/torch/cuda/__init__.py:83: UserWarning: CUDA initialization: The NVIDIA driver on your system is too old (found version 9010). Please update your GPU driver by downloading and installing a new version from the URL: http://www.nvidia.com/Download/index.aspx Alternatively, go to: https://pytorch.org to install a PyTorch version that has been compiled with your version of the CUDA driver. (Triggered internally at  ../c10/cuda/CUDAFunctions.cpp:109.)\n",
      "  return torch._C._cuda_getDeviceCount() > 0\n"
     ]
    }
   ],
   "source": [
    "import json, os\n",
    "from src.data_utils import corpus, pb_corpus"
   ]
  },
  {
   "cell_type": "code",
   "execution_count": 3,
   "id": "8f7f2aa6",
   "metadata": {},
   "outputs": [],
   "source": [
    "os.environ['EFQADATA'] = '/people/gerald/Documents/repositories/Educational-French-Question-Answering/dataset'"
   ]
  },
  {
   "cell_type": "code",
   "execution_count": 4,
   "id": "286d9346",
   "metadata": {},
   "outputs": [],
   "source": [
    "data_folder = os.path.expandvars(\"$EFQADATA/source\")\n",
    "datasets_name = [\"squad.pb.json\",\"fquad.pb.json\", \"piaf.pb.json\", \"freelance.pb.json\", \"isahit.pb.json\"]\n",
    "datasets = {}\n",
    "\n",
    "for dataset_name in datasets_name: \n",
    "    with open(os.path.join(data_folder, dataset_name)) as f:\n",
    "        data = json.load(f)\n",
    "        if('test' not in data):\n",
    "            datasets[dataset_name.split('.')[0]] = {'test': data}\n",
    "        else:\n",
    "            datasets[dataset_name.split('.')[0]] = data\n"
   ]
  },
  {
   "cell_type": "code",
   "execution_count": 5,
   "id": "da7e89b4",
   "metadata": {},
   "outputs": [
    {
     "name": "stderr",
     "output_type": "stream",
     "text": [
      "100%|█████████████████████████████████████████████████████████████████████████████████████████████████████████████████████████████████████████████████████████████████| 4874/4874 [00:00<00:00, 7802.25it/s]\n",
      "100%|███████████████████████████████████████████████████████████████████████████████████████████████████████████████████████████████████████████████████████████████| 87599/87599 [00:11<00:00, 7313.99it/s]\n",
      "100%|█████████████████████████████████████████████████████████████████████████████████████████████████████████████████████████████████████████████████████████████████| 5696/5696 [00:00<00:00, 8212.71it/s]\n",
      "100%|███████████████████████████████████████████████████████████████████████████████████████████████████████████████████████████████████████████████████████████████| 20731/20731 [00:02<00:00, 7185.86it/s]\n",
      "100%|█████████████████████████████████████████████████████████████████████████████████████████████████████████████████████████████████████████████████████████████████| 1641/1641 [00:00<00:00, 7052.47it/s]\n",
      "100%|█████████████████████████████████████████████████████████████████████████████████████████████████████████████████████████████████████████████████████████████████| 1547/1547 [00:00<00:00, 9528.81it/s]\n",
      "100%|█████████████████████████████████████████████████████████████████████████████████████████████████████████████████████████████████████████████████████████████████| 7375/7375 [00:00<00:00, 7378.44it/s]\n",
      "100%|█████████████████████████████████████████████████████████████████████████████████████████████████████████████████████████████████████████████████████████████████| 1082/1082 [00:00<00:00, 9367.91it/s]\n",
      "100%|███████████████████████████████████████████████████████████████████████████████████████████████████████████████████████████████████████████████████████████████████| 767/767 [00:00<00:00, 5316.81it/s]\n",
      "100%|███████████████████████████████████████████████████████████████████████████████████████████████████████████████████████████████████████████████████████████████████| 251/251 [00:00<00:00, 5407.42it/s]\n",
      "100%|███████████████████████████████████████████████████████████████████████████████████████████████████████████████████████████████████████████████████████████████████| 182/182 [00:00<00:00, 9141.64it/s]\n"
     ]
    }
   ],
   "source": [
    "for dataset_name, dataset_data in datasets.items():\n",
    "    lang = \"fr\"\n",
    "    if('squad' in dataset_name):\n",
    "        lang = \"en\"\n",
    "    for dataset_split_name, dataset_split_data in dataset_data.items():\n",
    "        current_corpus = pb_corpus.FQAGPBDataset(dataset_split_data, lang=lang)\n",
    "        corpus.to_hf(current_corpus, dataset_name, dataset_split_name)"
   ]
  }
 ],
 "metadata": {
  "kernelspec": {
   "display_name": "Python 3 (ipykernel)",
   "language": "python",
   "name": "python3"
  },
  "language_info": {
   "codemirror_mode": {
    "name": "ipython",
    "version": 3
   },
   "file_extension": ".py",
   "mimetype": "text/x-python",
   "name": "python",
   "nbconvert_exporter": "python",
   "pygments_lexer": "ipython3",
   "version": "3.8.12"
  }
 },
 "nbformat": 4,
 "nbformat_minor": 5
}
