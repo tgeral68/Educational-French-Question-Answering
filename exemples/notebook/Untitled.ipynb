{
 "cells": [
  {
   "cell_type": "code",
   "execution_count": 1,
   "id": "34a4b6ba",
   "metadata": {},
   "outputs": [],
   "source": [
    "from transformers import MBartForConditionalGeneration, MBart50TokenizerFast\n"
   ]
  },
  {
   "cell_type": "code",
   "execution_count": 2,
   "id": "1093ddb2",
   "metadata": {},
   "outputs": [],
   "source": [
    "tokenizer = MBart50TokenizerFast.from_pretrained(\"facebook/mbart-large-50-many-to-many-mmt\")"
   ]
  },
  {
   "cell_type": "code",
   "execution_count": 4,
   "id": "8f1c97c9",
   "metadata": {},
   "outputs": [],
   "source": [
    "x = [\"this is a test de l'anglais au français\"]"
   ]
  },
  {
   "cell_type": "code",
   "execution_count": 7,
   "id": "c086d5f6",
   "metadata": {},
   "outputs": [
    {
     "data": {
      "text/plain": [
       "{'input_ids': [[250004, 903, 83, 10, 3034, 8, 96, 25, 1463, 19164, 531, 43054, 2]], 'attention_mask': [[1, 1, 1, 1, 1, 1, 1, 1, 1, 1, 1, 1, 1]]}"
      ]
     },
     "execution_count": 7,
     "metadata": {},
     "output_type": "execute_result"
    }
   ],
   "source": [
    "tokenizer.src_lang = \"en_XX\"\n",
    "tokenizer(x)"
   ]
  },
  {
   "cell_type": "code",
   "execution_count": 8,
   "id": "86a24a77",
   "metadata": {},
   "outputs": [
    {
     "data": {
      "text/plain": [
       "{'input_ids': [[250008, 903, 83, 10, 3034, 8, 96, 25, 1463, 19164, 531, 43054, 2]], 'attention_mask': [[1, 1, 1, 1, 1, 1, 1, 1, 1, 1, 1, 1, 1]]}"
      ]
     },
     "execution_count": 8,
     "metadata": {},
     "output_type": "execute_result"
    }
   ],
   "source": [
    "tokenizer.src_lang = \"fr_XX\"\n",
    "tokenizer(x)"
   ]
  },
  {
   "cell_type": "code",
   "execution_count": null,
   "id": "560ae274",
   "metadata": {},
   "outputs": [],
   "source": []
  }
 ],
 "metadata": {
  "kernelspec": {
   "display_name": "Python 3 (ipykernel)",
   "language": "python",
   "name": "python3"
  },
  "language_info": {
   "codemirror_mode": {
    "name": "ipython",
    "version": 3
   },
   "file_extension": ".py",
   "mimetype": "text/x-python",
   "name": "python",
   "nbconvert_exporter": "python",
   "pygments_lexer": "ipython3",
   "version": "3.8.12"
  }
 },
 "nbformat": 4,
 "nbformat_minor": 5
}
