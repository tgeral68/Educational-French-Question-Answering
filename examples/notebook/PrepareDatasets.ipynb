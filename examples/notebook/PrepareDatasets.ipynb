{
 "cells": [
  {
   "cell_type": "code",
   "execution_count": 2,
   "id": "783e29a0",
   "metadata": {},
   "outputs": [
    {
     "name": "stdout",
     "output_type": "stream",
     "text": [
      "/people/gerald/Documents/repositories/Educational-French-Question-Answering\n"
     ]
    }
   ],
   "source": [
    "cd ../.."
   ]
  },
  {
   "cell_type": "code",
   "execution_count": 3,
   "id": "f083a243",
   "metadata": {
    "scrolled": true
   },
   "outputs": [],
   "source": [
    "import json, os\n",
    "from src.data_utils import corpus, pb_corpus"
   ]
  },
  {
   "cell_type": "code",
   "execution_count": 4,
   "id": "8f7f2aa6",
   "metadata": {},
   "outputs": [],
   "source": [
    "os.environ['EFQADATA'] = '/people/gerald/Documents/repositories/Educational-French-Question-Answering/dataset'"
   ]
  },
  {
   "cell_type": "code",
   "execution_count": 5,
   "id": "286d9346",
   "metadata": {},
   "outputs": [],
   "source": [
    "data_folder = os.path.expandvars(\"$EFQADATA/source\")\n",
    "datasets_name = [\n",
    "                 \"squad.pb.json\",\"fquad.pb.json\", \"piaf.pb.json\", \n",
    "                 \"freelance.pb.json\", \"isahit.pb.json\", \"piaf-fr-en.pb.json\",\n",
    "                 \"squad-en-fr.pb.json\", \"fquad-fr-en.pb.json\"\n",
    "                ]\n",
    "datasets = {}\n",
    "\n",
    "for dataset_name in datasets_name: \n",
    "    with open(os.path.join(data_folder, dataset_name)) as f:\n",
    "        data = json.load(f)\n",
    "        if('test' not in data):\n",
    "            datasets[dataset_name.split('.')[0]] = {'test': data}\n",
    "        else:\n",
    "            datasets[dataset_name.split('.')[0]] = data\n"
   ]
  },
  {
   "cell_type": "code",
   "execution_count": 6,
   "id": "da7e89b4",
   "metadata": {
    "scrolled": true
   },
   "outputs": [
    {
     "name": "stdout",
     "output_type": "stream",
     "text": [
      "squad\n"
     ]
    },
    {
     "name": "stderr",
     "output_type": "stream",
     "text": [
      "100%|█████████████████████████████████████████████████████████| 4874/4874 [00:00<00:00, 24669.73it/s]\n",
      "100%|████████████████████████████████████████████████████████| 87599/87599 [00:15<00:00, 5633.32it/s]\n",
      "100%|█████████████████████████████████████████████████████████| 5696/5696 [00:00<00:00, 23112.40it/s]\n"
     ]
    },
    {
     "name": "stdout",
     "output_type": "stream",
     "text": [
      "fquad\n"
     ]
    },
    {
     "name": "stderr",
     "output_type": "stream",
     "text": [
      "100%|███████████████████████████████████████████████████████| 20731/20731 [00:01<00:00, 15739.38it/s]\n",
      "100%|█████████████████████████████████████████████████████████| 1641/1641 [00:00<00:00, 20493.59it/s]\n",
      "100%|█████████████████████████████████████████████████████████| 1547/1547 [00:00<00:00, 29306.95it/s]\n"
     ]
    },
    {
     "name": "stdout",
     "output_type": "stream",
     "text": [
      "piaf\n"
     ]
    },
    {
     "name": "stderr",
     "output_type": "stream",
     "text": [
      "100%|██████████████████████████████████████████████████████████| 7375/7375 [00:01<00:00, 5922.45it/s]\n",
      "100%|█████████████████████████████████████████████████████████| 1082/1082 [00:00<00:00, 11701.31it/s]\n",
      "100%|███████████████████████████████████████████████████████████| 767/767 [00:00<00:00, 19192.64it/s]\n"
     ]
    },
    {
     "name": "stdout",
     "output_type": "stream",
     "text": [
      "freelance\n"
     ]
    },
    {
     "name": "stderr",
     "output_type": "stream",
     "text": [
      "100%|███████████████████████████████████████████████████████████| 251/251 [00:00<00:00, 20374.49it/s]\n"
     ]
    },
    {
     "name": "stdout",
     "output_type": "stream",
     "text": [
      "isahit\n"
     ]
    },
    {
     "name": "stderr",
     "output_type": "stream",
     "text": [
      "100%|███████████████████████████████████████████████████████████| 182/182 [00:00<00:00, 18497.71it/s]\n"
     ]
    },
    {
     "name": "stdout",
     "output_type": "stream",
     "text": [
      "piaf-fr-en\n"
     ]
    },
    {
     "name": "stderr",
     "output_type": "stream",
     "text": [
      "100%|██████████████████████████████████████████████████████████| 7375/7375 [00:01<00:00, 6068.70it/s]\n",
      "100%|█████████████████████████████████████████████████████████| 1082/1082 [00:00<00:00, 11067.33it/s]\n",
      "100%|███████████████████████████████████████████████████████████| 767/767 [00:00<00:00, 16808.86it/s]\n"
     ]
    },
    {
     "name": "stdout",
     "output_type": "stream",
     "text": [
      "squad-en-fr\n"
     ]
    },
    {
     "name": "stderr",
     "output_type": "stream",
     "text": [
      "100%|█████████████████████████████████████████████████████████| 4874/4874 [00:00<00:00, 27781.19it/s]\n",
      "100%|████████████████████████████████████████████████████████| 87599/87599 [00:14<00:00, 6015.79it/s]\n",
      "100%|█████████████████████████████████████████████████████████| 5696/5696 [00:00<00:00, 23653.42it/s]\n"
     ]
    },
    {
     "name": "stdout",
     "output_type": "stream",
     "text": [
      "fquad-fr-en\n"
     ]
    },
    {
     "name": "stderr",
     "output_type": "stream",
     "text": [
      "100%|███████████████████████████████████████████████████████| 20731/20731 [00:01<00:00, 15737.13it/s]\n",
      "100%|█████████████████████████████████████████████████████████| 1641/1641 [00:00<00:00, 20098.21it/s]\n",
      "100%|█████████████████████████████████████████████████████████| 1547/1547 [00:00<00:00, 30196.47it/s]\n"
     ]
    }
   ],
   "source": [
    "for dataset_name, dataset_data in datasets.items():\n",
    "    input_lang = \"fr\"\n",
    "    output_lang = \"fr\"\n",
    "    if('squad' in dataset_name):\n",
    "        input_lang = \"en\"\n",
    "        output_lang = \"en\"\n",
    "    if('en-fr' in dataset_name):\n",
    "        output_lang = \"fr\"\n",
    "    if('fr-en' in dataset_name):\n",
    "        output_lang = \"fr\"\n",
    "    print(dataset_name)\n",
    "    for dataset_split_name, dataset_split_data in dataset_data.items():\n",
    "        current_corpus = pb_corpus.FQAGPBDataset(dataset_split_data, input_lang=input_lang, output_lang=output_lang)\n",
    "        corpus.to_hf(current_corpus, dataset_name, dataset_split_name)"
   ]
  },
  {
   "cell_type": "code",
   "execution_count": null,
   "id": "bda355fd",
   "metadata": {},
   "outputs": [],
   "source": []
  }
 ],
 "metadata": {
  "kernelspec": {
   "display_name": "Python 3 (ipykernel)",
   "language": "python",
   "name": "python3"
  },
  "language_info": {
   "codemirror_mode": {
    "name": "ipython",
    "version": 3
   },
   "file_extension": ".py",
   "mimetype": "text/x-python",
   "name": "python",
   "nbconvert_exporter": "python",
   "pygments_lexer": "ipython3",
   "version": "3.8.12"
  }
 },
 "nbformat": 4,
 "nbformat_minor": 5
}
