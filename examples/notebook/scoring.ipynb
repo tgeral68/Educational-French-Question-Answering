{
 "cells": [
  {
   "cell_type": "code",
   "execution_count": 3,
   "id": "82e396d7",
   "metadata": {},
   "outputs": [],
   "source": [
    "import os \n",
    "import pandas as pd\n",
    "import evaluate\n",
    "import spacy\n"
   ]
  },
  {
   "cell_type": "code",
   "execution_count": 4,
   "id": "b8c7be81",
   "metadata": {},
   "outputs": [],
   "source": [
    "model_prediction_path = \"/people/gerald/Documents/repositories/Educational-French-Question-Answering/predictions/predictions-mbart-alignement\""
   ]
  },
  {
   "cell_type": "code",
   "execution_count": 5,
   "id": "be5bd50f",
   "metadata": {},
   "outputs": [],
   "source": [
    "predictions = {}\n",
    "for fname in os.listdir(model_prediction_path):\n",
    "    predictions[fname.split('.')[0].split(\"-\")[1] + \"-\" + fname.split('.')[0].split(\"-\")[-1]] =\\\n",
    "        pd.read_csv(os.path.join(model_prediction_path, fname))"
   ]
  },
  {
   "cell_type": "code",
   "execution_count": 6,
   "id": "2e39a61f",
   "metadata": {},
   "outputs": [],
   "source": [
    "bertscore = evaluate.load('bertscore', model = \"xlm-roberta-large\")\n",
    "rouge  = evaluate.load('rouge')\n",
    "nlp = spacy.load(\"fr_core_news_lg\")"
   ]
  },
  {
   "cell_type": "code",
   "execution_count": 7,
   "id": "95d58f6a",
   "metadata": {},
   "outputs": [
    {
     "data": {
      "text/html": [
       "<div>\n",
       "<style scoped>\n",
       "    .dataframe tbody tr th:only-of-type {\n",
       "        vertical-align: middle;\n",
       "    }\n",
       "\n",
       "    .dataframe tbody tr th {\n",
       "        vertical-align: top;\n",
       "    }\n",
       "\n",
       "    .dataframe thead th {\n",
       "        text-align: right;\n",
       "    }\n",
       "</style>\n",
       "<table border=\"1\" class=\"dataframe\">\n",
       "  <thead>\n",
       "    <tr style=\"text-align: right;\">\n",
       "      <th></th>\n",
       "      <th>qid</th>\n",
       "      <th>qtype</th>\n",
       "      <th>default_selection</th>\n",
       "      <th>generated_text</th>\n",
       "      <th>ground_truth_text</th>\n",
       "    </tr>\n",
       "  </thead>\n",
       "  <tbody>\n",
       "    <tr>\n",
       "      <th>0</th>\n",
       "      <td>0</td>\n",
       "      <td>NONE</td>\n",
       "      <td>True</td>\n",
       "      <td>Combien sont les Spartiates par rapport à leur...</td>\n",
       "      <td>Quel était la proportion de Spartiates par rap...</td>\n",
       "    </tr>\n",
       "    <tr>\n",
       "      <th>1</th>\n",
       "      <td>1</td>\n",
       "      <td>NONE</td>\n",
       "      <td>True</td>\n",
       "      <td>Pour qui les Spartiates sont-ils maltraités?</td>\n",
       "      <td>Qui haissent les Spartiates?</td>\n",
       "    </tr>\n",
       "    <tr>\n",
       "      <th>2</th>\n",
       "      <td>2</td>\n",
       "      <td>NONE</td>\n",
       "      <td>True</td>\n",
       "      <td>Pourquoi la politique des Lacédémoniens à l'ég...</td>\n",
       "      <td>Comment est dictée la politique des Lacédémoni...</td>\n",
       "    </tr>\n",
       "    <tr>\n",
       "      <th>3</th>\n",
       "      <td>3</td>\n",
       "      <td>NONE</td>\n",
       "      <td>True</td>\n",
       "      <td>Comment les Égaux se déplacent-ils?</td>\n",
       "      <td>Quelle est la tradition chez les Spartiates?</td>\n",
       "    </tr>\n",
       "    <tr>\n",
       "      <th>4</th>\n",
       "      <td>4</td>\n",
       "      <td>NONE</td>\n",
       "      <td>True</td>\n",
       "      <td>Que craignent les Spartiates?</td>\n",
       "      <td>Que craignaient les les Spartiates?</td>\n",
       "    </tr>\n",
       "    <tr>\n",
       "      <th>...</th>\n",
       "      <td>...</td>\n",
       "      <td>...</td>\n",
       "      <td>...</td>\n",
       "      <td>...</td>\n",
       "      <td>...</td>\n",
       "    </tr>\n",
       "    <tr>\n",
       "      <th>762</th>\n",
       "      <td>762</td>\n",
       "      <td>NONE</td>\n",
       "      <td>True</td>\n",
       "      <td>Qu'est-ce qui ne dément pas l'aspect brutal?</td>\n",
       "      <td>Quelle est la singularité des orques?</td>\n",
       "    </tr>\n",
       "    <tr>\n",
       "      <th>763</th>\n",
       "      <td>763</td>\n",
       "      <td>NONE</td>\n",
       "      <td>True</td>\n",
       "      <td>Que les orques apprécient-ils?</td>\n",
       "      <td>De quoi se nourrissent les orques?</td>\n",
       "    </tr>\n",
       "    <tr>\n",
       "      <th>764</th>\n",
       "      <td>764</td>\n",
       "      <td>NONE</td>\n",
       "      <td>True</td>\n",
       "      <td>Qu'est ce que les orques ne dédaignent pas?</td>\n",
       "      <td>En cas de disette, de quoi sont capables les o...</td>\n",
       "    </tr>\n",
       "    <tr>\n",
       "      <th>765</th>\n",
       "      <td>765</td>\n",
       "      <td>NONE</td>\n",
       "      <td>True</td>\n",
       "      <td>De quoi les orques sont-ils souvent composés?</td>\n",
       "      <td>malgré leur cruauté, quel rang militaire occup...</td>\n",
       "    </tr>\n",
       "    <tr>\n",
       "      <th>766</th>\n",
       "      <td>766</td>\n",
       "      <td>NONE</td>\n",
       "      <td>True</td>\n",
       "      <td>De quoi les orques sont-ils souvent des fantas...</td>\n",
       "      <td>Quelles sont les puissances qui emploient des ...</td>\n",
       "    </tr>\n",
       "  </tbody>\n",
       "</table>\n",
       "<p>767 rows × 5 columns</p>\n",
       "</div>"
      ],
      "text/plain": [
       "     qid qtype  default_selection  \\\n",
       "0      0  NONE               True   \n",
       "1      1  NONE               True   \n",
       "2      2  NONE               True   \n",
       "3      3  NONE               True   \n",
       "4      4  NONE               True   \n",
       "..   ...   ...                ...   \n",
       "762  762  NONE               True   \n",
       "763  763  NONE               True   \n",
       "764  764  NONE               True   \n",
       "765  765  NONE               True   \n",
       "766  766  NONE               True   \n",
       "\n",
       "                                        generated_text  \\\n",
       "0    Combien sont les Spartiates par rapport à leur...   \n",
       "1         Pour qui les Spartiates sont-ils maltraités?   \n",
       "2    Pourquoi la politique des Lacédémoniens à l'ég...   \n",
       "3                  Comment les Égaux se déplacent-ils?   \n",
       "4                        Que craignent les Spartiates?   \n",
       "..                                                 ...   \n",
       "762       Qu'est-ce qui ne dément pas l'aspect brutal?   \n",
       "763                     Que les orques apprécient-ils?   \n",
       "764        Qu'est ce que les orques ne dédaignent pas?   \n",
       "765      De quoi les orques sont-ils souvent composés?   \n",
       "766  De quoi les orques sont-ils souvent des fantas...   \n",
       "\n",
       "                                     ground_truth_text  \n",
       "0    Quel était la proportion de Spartiates par rap...  \n",
       "1                         Qui haissent les Spartiates?  \n",
       "2    Comment est dictée la politique des Lacédémoni...  \n",
       "3         Quelle est la tradition chez les Spartiates?  \n",
       "4                  Que craignaient les les Spartiates?  \n",
       "..                                                 ...  \n",
       "762              Quelle est la singularité des orques?  \n",
       "763                 De quoi se nourrissent les orques?  \n",
       "764  En cas de disette, de quoi sont capables les o...  \n",
       "765  malgré leur cruauté, quel rang militaire occup...  \n",
       "766  Quelles sont les puissances qui emploient des ...  \n",
       "\n",
       "[767 rows x 5 columns]"
      ]
     },
     "execution_count": 7,
     "metadata": {},
     "output_type": "execute_result"
    }
   ],
   "source": [
    "predictions['piaf-default_processing']"
   ]
  },
  {
   "cell_type": "code",
   "execution_count": 12,
   "id": "c1b50ca1",
   "metadata": {
    "scrolled": false
   },
   "outputs": [
    {
     "name": "stdout",
     "output_type": "stream",
     "text": [
      "\tpiaf-default_processing:\n",
      "\tisahit-nouns_phrase:\n",
      "\tfreelance-default_processing:\n",
      "\tfreelance-nouns_phrase:\n",
      "\tfreelance-keyphrase:\n",
      "\tfreelance-cobject:\n",
      "\tisahit-default_processing:\n",
      "\tfquad-cobject:\n",
      "\tfquad-default_processing:\n",
      "\tpiaf-entities:\n",
      "\tfquad-entities:\n",
      "\tpiaf-cobject:\n",
      "\tfquad-nouns_phrase:\n",
      "\tfreelance-entities:\n",
      "\tpiaf-keyphrase:\n",
      "\tisahit-entities:\n",
      "\tfquad-keyphrase:\n",
      "\tisahit-cobject:\n",
      "\tisahit-keyphrase:\n",
      "\tpiaf-nouns_phrase:\n"
     ]
    }
   ],
   "source": [
    "total_dictionary = {}\n",
    "for k, df_pred in predictions.items():\n",
    "    dataset_name, seed_method = k.split(\"-\")\n",
    "    if dataset_name not in total_dictionary:\n",
    "        total_dictionary[dataset_name] = {}\n",
    "\n",
    "    prediction = [p for p in df_pred[\"generated_text\"]]\n",
    "    references = [r for r in df_pred[\"ground_truth_text\"]]\n",
    "    score = rouge.compute(predictions=prediction, rouge_types=[\"rougeL\"], references=references, use_aggregator=False, tokenizer= lambda x : [t.text for t in nlp.tokenizer(x)])\n",
    "    df_pred['rougeL'] = score['rougeL']\n",
    "    score = bertscore.compute(predictions=prediction, references=references, model_type=\"xlm-roberta-large\")\n",
    "    df_pred['f1'] = score['f1']\n",
    "\n",
    "    mean_group = df_pred.groupby(\"qid\").mean()['rougeL']\n",
    "    mean_group = df_pred.groupby(\"qid\").mean()['rougeL']\n",
    "    max_group = df_pred.groupby(\"qid\").max()['rougeL']\n",
    "    min_group = df_pred.groupby(\"qid\").min()['rougeL']\n",
    "    count_group = df_pred.groupby(\"qid\").count()['rougeL']\n",
    "    \n",
    "    rmegm = round(mean_group.mean() * 100, 1)\n",
    "    rmegs = round(mean_group.std() * 100, 1)\n",
    "    rmagm = round(max_group.mean() * 100, 1)\n",
    "    rmags = round(max_group.std() * 100, 1 )\n",
    "    rmigm = round(min_group.mean() * 100, 1 )\n",
    "    rmigs = round(min_group.std() * 100, 1 )\n",
    "\n",
    "    mean_group = df_pred.groupby(\"qid\").mean()['f1']\n",
    "    mean_group = df_pred.groupby(\"qid\").mean()['f1']\n",
    "    max_group = df_pred.groupby(\"qid\").max()['f1']\n",
    "    min_group = df_pred.groupby(\"qid\").min()['f1']\n",
    "    count_group = df_pred.groupby(\"qid\").count()['f1']\n",
    "  \n",
    "    bmegm = round(mean_group.mean() * 100, 1)\n",
    "    bmegs = round(mean_group.std() * 100, 1)\n",
    "    bmagm = round(max_group.mean() * 100, 1)\n",
    "    bmags = round(max_group.std() * 100, 1 )\n",
    "    bmigm = round(min_group.mean() * 100, 1 )\n",
    "    bmigs = round(min_group.std() * 100, 1 )\n",
    "    \n",
    "    print(\"\\t%s:\"%(k))\n",
    "    res = \"$%s$ & $%s$ & $%s$ & $%s$ & $%s$ & $%s$ & $%s$\"%(rmegm,  bmegm,  rmagm,  bmagm,  rmigm,  bmigm, round(count_group.mean(),1))\n",
    "    total_dictionary[dataset_name][seed_method] = res\n"
   ]
  },
  {
   "cell_type": "code",
   "execution_count": 20,
   "id": "959330db",
   "metadata": {},
   "outputs": [],
   "source": [
    "def formating_dataset(data,\n",
    "                      dataset_order=[\"fquad\", \"piaf\", \"freelance\", \"isahit\"],\n",
    "                      seed_order=[(\"default_processing\", \"DEF\"),(\"entities\", \"ENT\"),\n",
    "                                  (\"nouns_phrase\", \"NP\"), (\"keyphrase\", \"KP\"), ('cobject', 'OBJ')]):\n",
    "    for d in dataset_order:\n",
    "        print(\"\\mediumhline\")\n",
    "        print(\"\\multirow{%s}{*}{%s}\"%(len(seed_order), d))\n",
    "        for i, s in enumerate(seed_order):\n",
    "            print(\"&%s&%s\\\\\\\\\"%(s[1], data[d][s[0]]))\n",
    "            "
   ]
  },
  {
   "cell_type": "code",
   "execution_count": 21,
   "id": "1afe5bef",
   "metadata": {
    "scrolled": true
   },
   "outputs": [
    {
     "name": "stdout",
     "output_type": "stream",
     "text": [
      "\\mediumhline\n",
      "\\multirow{5}{*}{fquad}\n",
      "&DEF&$41.8$ & $90.9$ & $41.8$ & $90.9$ & $41.8$ & $90.9$ & $1.0$\\\\\n",
      "&ENT&$30.9$ & $89.1$ & $36.8$ & $90.2$ & $26.1$ & $88.1$ & $2.3$\\\\\n",
      "&NP&$27.7$ & $88.7$ & $43.6$ & $91.3$ & $15.7$ & $86.2$ & $7.1$\\\\\n",
      "&KP&$29.6$ & $89.0$ & $36.5$ & $90.3$ & $22.8$ & $87.7$ & $2.0$\\\\\n",
      "&OBJ&$32.3$ & $89.3$ & $35.7$ & $90.0$ & $29.2$ & $88.7$ & $1.7$\\\\\n",
      "\\mediumhline\n",
      "\\multirow{5}{*}{piaf}\n",
      "&DEF&$38.5$ & $90.5$ & $38.5$ & $90.5$ & $38.5$ & $90.5$ & $1.0$\\\\\n",
      "&ENT&$29.7$ & $88.9$ & $35.2$ & $89.9$ & $25.3$ & $88.0$ & $2.4$\\\\\n",
      "&NP&$26.0$ & $88.3$ & $39.8$ & $90.8$ & $15.5$ & $86.0$ & $6.4$\\\\\n",
      "&KP&$26.9$ & $88.5$ & $33.4$ & $89.6$ & $20.5$ & $87.3$ & $2.0$\\\\\n",
      "&OBJ&$30.6$ & $89.1$ & $33.4$ & $89.6$ & $28.2$ & $88.6$ & $1.6$\\\\\n",
      "\\mediumhline\n",
      "\\multirow{5}{*}{freelance}\n",
      "&DEF&$27.5$ & $89.2$ & $27.5$ & $89.2$ & $27.5$ & $89.2$ & $1.0$\\\\\n",
      "&ENT&$23.9$ & $88.5$ & $28.2$ & $89.3$ & $20.2$ & $87.7$ & $2.5$\\\\\n",
      "&NP&$23.2$ & $88.3$ & $36.6$ & $90.6$ & $13.1$ & $86.0$ & $8.5$\\\\\n",
      "&KP&$24.4$ & $88.6$ & $33.1$ & $90.2$ & $16.5$ & $87.0$ & $3.4$\\\\\n",
      "&OBJ&$25.4$ & $88.7$ & $28.5$ & $89.3$ & $22.5$ & $88.0$ & $2.0$\\\\\n",
      "\\mediumhline\n",
      "\\multirow{5}{*}{isahit}\n",
      "&DEF&$35.4$ & $90.4$ & $37.4$ & $90.7$ & $33.7$ & $90.0$ & $1.4$\\\\\n",
      "&ENT&$28.1$ & $89.0$ & $33.5$ & $89.9$ & $23.5$ & $88.0$ & $2.5$\\\\\n",
      "&NP&$28.0$ & $89.1$ & $43.2$ & $91.7$ & $16.2$ & $86.6$ & $8.7$\\\\\n",
      "&KP&$30.3$ & $89.4$ & $39.4$ & $91.0$ & $22.2$ & $87.8$ & $3.9$\\\\\n",
      "&OBJ&$30.6$ & $89.4$ & $35.2$ & $90.3$ & $27.0$ & $88.6$ & $2.3$\\\\\n"
     ]
    }
   ],
   "source": [
    "formating_dataset(total_dictionary)"
   ]
  },
  {
   "cell_type": "code",
   "execution_count": 61,
   "id": "842d1702",
   "metadata": {
    "scrolled": true
   },
   "outputs": [],
   "source": [
    "tr_key = {\n",
    "    'knowledge' : 'course',\n",
    "    'document_study': 'raisoning'\n",
    "}\n",
    "qtype_dictionary = {}\n",
    "for k, df_pred in predictions.items():\n",
    "    dataset_name, seed_method = k.split(\"-\")\n",
    "    if dataset_name not in qtype_dictionary:\n",
    "        qtype_dictionary[dataset_name] = {}\n",
    "    gmean = df_pred.groupby('qid').mean()\n",
    "    gmax = df_pred.groupby('qid').max()\n",
    "    gmin = df_pred.groupby('qid').min()\n",
    "    count = df_pred.groupby(['qid' ]).count()\n",
    "\n",
    "    gmean['qtype'] = gmax[\"qtype\"]\n",
    "    gmin['qtype'] = gmax[\"qtype\"]\n",
    "    gmax['qtype'] = gmax[\"qtype\"]\n",
    "    count['qtype'] = gmax[\"qtype\"]\n",
    "\n",
    "    rmean = gmean.groupby('qtype').mean()['rougeL']\n",
    "    fmean = gmean.groupby('qtype').mean()['f1']\n",
    "    rmax = gmax.groupby('qtype').mean()['rougeL']\n",
    "    fmax = gmax.groupby('qtype').mean()['f1']\n",
    "    rmin = gmin.groupby('qtype').mean()['rougeL']\n",
    "    fmin = gmin.groupby('qtype').mean()['f1']\n",
    "    acount = count.groupby(['qtype' ]).mean()['f1']\n",
    "    \n",
    "    dico = {}\n",
    "    for key in rmax.to_dict().keys():\n",
    "        nkey = key\n",
    "        if key in tr_key:\n",
    "            nkey = tr_key[key]\n",
    "        dico[nkey]  = {}\n",
    "        dico[nkey][\"rmean\"] = rmean[key]\n",
    "        dico[nkey][\"fmean\"] = fmean[key]\n",
    "        dico[nkey][\"rmax\"] = rmax[key]\n",
    "        dico[nkey][\"fmax\"] = fmax[key]\n",
    "        dico[nkey][\"rmin\"] = rmin[key]\n",
    "        dico[nkey][\"fmin\"] = fmin[key]\n",
    "        dico[nkey][\"count\"] = acount[key]\n",
    "\n",
    "    qtype_dictionary[dataset_name][seed_method] = dico"
   ]
  },
  {
   "cell_type": "code",
   "execution_count": 66,
   "id": "05bdf659",
   "metadata": {},
   "outputs": [],
   "source": [
    "def qtype_dictionary_to_table(data,\n",
    "                              dataset_order=[\"freelance\", \"isahit\"],\n",
    "                              seed_to_use=\"default_processing\",\n",
    "                              qtype_order=[('factual', 'FACT'), ('vocabulary', 'VOCA'),\n",
    "                                           ('course', \"COUR\"), (\"raisoning\", \"SYNT\")\n",
    "                                          ]):\n",
    "    for d in dataset_order:\n",
    "        print(\"\\mediumhline\")\n",
    "        print(\"\\multirow{%s}{*}{%s}\"%(len(qtype_order), d))\n",
    "        #print(data[d][seed_to_use])\n",
    "        for i, s in enumerate(qtype_order):\n",
    "            ### ONLY WITH RECENT PYTHON VERSION ELSE ORDER IN DICTIONARY ARE NOT PRESERVED\n",
    "            print(\"&%s&%s\\\\\\\\\"%(s[1], \"&\".join([str(round(rs * 100, 1)) if(rs < 1) else str(round(rs, 1)) for rs in data[d][seed_to_use][s[0]].values()])))\n",
    "            "
   ]
  },
  {
   "cell_type": "code",
   "execution_count": 67,
   "id": "3fb0f08d",
   "metadata": {},
   "outputs": [
    {
     "name": "stdout",
     "output_type": "stream",
     "text": [
      "\\mediumhline\n",
      "\\multirow{4}{*}{freelance}\n",
      "&FACT&28.2&89.5&28.2&89.5&28.2&89.5&1.0\\\\\n",
      "&VOCA&48.0&91.4&48.0&91.4&48.0&91.4&1.0\\\\\n",
      "&COUR&28.3&89.3&28.3&89.3&28.3&89.3&1.0\\\\\n",
      "&SYNT&22.2&88.5&22.2&88.5&22.2&88.5&1.0\\\\\n",
      "\\mediumhline\n",
      "\\multirow{4}{*}{isahit}\n",
      "&FACT&50.0&92.6&50.0&92.6&50.0&92.6&1.0\\\\\n",
      "&VOCA&37.8&90.7&37.8&90.7&37.8&90.7&1.0\\\\\n",
      "&COUR&36.2&90.5&36.5&90.6&35.8&90.5&1.1\\\\\n",
      "&SYNT&21.7&88.2&28.3&89.4&16.1&87.0&2.4\\\\\n"
     ]
    }
   ],
   "source": [
    "\n",
    "qtype_dictionary_to_table(qtype_dictionary)"
   ]
  },
  {
   "cell_type": "code",
   "execution_count": 100,
   "id": "138caacc",
   "metadata": {},
   "outputs": [
    {
     "name": "stdout",
     "output_type": "stream",
     "text": [
      "\n",
      "NONE : \n",
      "$27.79$ & $88.4$ & $46.21$ & $91.64$ & $12.53$ & $85.18$ & $12.37$\n",
      "$27.79$ & $88.4$ & $46.21$ & $91.64$ & $12.53$ & $85.18$ & $12.37$\n"
     ]
    },
    {
     "name": "stderr",
     "output_type": "stream",
     "text": [
      "/tmp/ipykernel_30331/3423135992.py:27: FutureWarning: Dropping of nuisance columns in DataFrame reductions (with 'numeric_only=None') is deprecated; in a future version this will raise TypeError.  Select only valid columns before calling the reduction.\n",
      "  print(\"$%s$ & $%s$ & $%s$ & $%s$ & $%s$ & $%s$ & $%s$\"%(round(gmean.mean()['rougeL'] *100,2),\n",
      "/tmp/ipykernel_30331/3423135992.py:28: FutureWarning: Dropping of nuisance columns in DataFrame reductions (with 'numeric_only=None') is deprecated; in a future version this will raise TypeError.  Select only valid columns before calling the reduction.\n",
      "  round(gmean.mean()['f1'] *100,2),\n",
      "/tmp/ipykernel_30331/3423135992.py:29: FutureWarning: Dropping of nuisance columns in DataFrame reductions (with 'numeric_only=None') is deprecated; in a future version this will raise TypeError.  Select only valid columns before calling the reduction.\n",
      "  round(gmax.mean()['rougeL']*100, 2 ), round(gmax.mean()['f1']*100, 2 ),\n",
      "/tmp/ipykernel_30331/3423135992.py:30: FutureWarning: Dropping of nuisance columns in DataFrame reductions (with 'numeric_only=None') is deprecated; in a future version this will raise TypeError.  Select only valid columns before calling the reduction.\n",
      "  round(gmin.mean()['rougeL']*100, 2 ),round(gmin.mean()['f1']*100, 2 ),\n",
      "/tmp/ipykernel_30331/3423135992.py:31: FutureWarning: Dropping of nuisance columns in DataFrame reductions (with 'numeric_only=None') is deprecated; in a future version this will raise TypeError.  Select only valid columns before calling the reduction.\n",
      "  round(count.mean()['f1'], 2)))\n"
     ]
    }
   ],
   "source": [
    "import numpy as np\n",
    "gmean = filtered_df.groupby('id').mean()\n",
    "gmax = filtered_df.groupby('id').max()\n",
    "gmin = filtered_df.groupby('id').min()\n",
    "count = filtered_df.groupby(['id' ]).count()\n",
    "\n",
    "gmean['question_type'] = question_type_list\n",
    "gmin['question_type'] = question_type_list\n",
    "gmax['question_type'] = question_type_list\n",
    "count['question_type'] = question_type_list\n",
    "\n",
    "rmean = gmean.groupby('question_type').mean()['rougeL']\n",
    "fmean = gmean.groupby('question_type').mean()['f1']\n",
    "rmax = gmax.groupby('question_type').mean()['rougeL']\n",
    "fmax = gmax.groupby('question_type').mean()['f1']\n",
    "rmin = gmin.groupby('question_type').mean()['rougeL']\n",
    "fmin = gmin.groupby('question_type').mean()['f1']\n",
    "acount = count.groupby(['question_type' ]).mean()['f1']\n",
    "\n",
    "\n",
    "\n",
    "for key_qt in np.unique(question_type_list):\n",
    "    print(\"\\n\"+key_qt+\" : \")\n",
    "    print(\"$%s$ & $%s$ & $%s$ & $%s$ & $%s$ & $%s$ & $%s$\"%(\n",
    "        round(rmean[key_qt]*100, 2 ) , round(fmean[key_qt]*100, 2 ) , round(rmax[key_qt]*100, 2 ) , \n",
    "        round(fmax[key_qt]*100, 2 ) , round(rmin[key_qt]*100, 2 ) , round(fmin[key_qt]*100, 2 ) , round(acount[key_qt], 2 ) )) #,count))\n",
    "print(\"$%s$ & $%s$ & $%s$ & $%s$ & $%s$ & $%s$ & $%s$\"%(round(gmean.mean()['rougeL'] *100,2),\n",
    "                                                        round(gmean.mean()['f1'] *100,2),\n",
    "    round(gmax.mean()['rougeL']*100, 2 ), round(gmax.mean()['f1']*100, 2 ),\n",
    "    round(gmin.mean()['rougeL']*100, 2 ),round(gmin.mean()['f1']*100, 2 ),\n",
    "    round(count.mean()['f1'], 2)))\n"
   ]
  },
  {
   "cell_type": "code",
   "execution_count": 101,
   "id": "de39c9b4",
   "metadata": {},
   "outputs": [
    {
     "data": {
      "text/plain": [
       "question_type\n",
       "NONE    0.0\n",
       "Name: rougeL, dtype: float64"
      ]
     },
     "execution_count": 101,
     "metadata": {},
     "output_type": "execute_result"
    }
   ],
   "source": [
    "gmean.groupby('question_type').min()['rougeL']"
   ]
  },
  {
   "cell_type": "code",
   "execution_count": 63,
   "id": "327bbea3",
   "metadata": {},
   "outputs": [
    {
     "data": {
      "text/plain": [
       "0.8043004870414734"
      ]
     },
     "execution_count": 63,
     "metadata": {},
     "output_type": "execute_result"
    }
   ],
   "source": [
    "fmin['document_study']"
   ]
  },
  {
   "cell_type": "code",
   "execution_count": null,
   "id": "ad72cbfd",
   "metadata": {},
   "outputs": [],
   "source": []
  }
 ],
 "metadata": {
  "kernelspec": {
   "display_name": "Python 3 (ipykernel)",
   "language": "python",
   "name": "python3"
  },
  "language_info": {
   "codemirror_mode": {
    "name": "ipython",
    "version": 3
   },
   "file_extension": ".py",
   "mimetype": "text/x-python",
   "name": "python",
   "nbconvert_exporter": "python",
   "pygments_lexer": "ipython3",
   "version": "3.8.12"
  }
 },
 "nbformat": 4,
 "nbformat_minor": 5
}
